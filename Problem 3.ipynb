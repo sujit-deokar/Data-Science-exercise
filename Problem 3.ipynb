{
 "cells": [
  {
   "cell_type": "markdown",
   "metadata": {},
   "source": [
    "## Exercise: Problem 3"
   ]
  },
  {
   "cell_type": "markdown",
   "metadata": {},
   "source": [
    "    3. The ACCOUNT table contains a list of accounts held by customers.  A customer may have more than one account of each type   The layout for the table is as follows:\n",
    "    CUSTOMER_No    CUSTOMER_AGE\tACCOUNT_NUMBER\t   ACCOUNT TYPE\n",
    "      123\t           27\t         A987\t\t     Home Loan\n",
    "      123\t           27\t         B6547\t\t    Credit Card\n",
    "      124\t           42\t         B7531 \t\t   Credit Card\n",
    "…\n",
    "\n",
    "Show how you determine the proportion of customers with a credit card for each of the following age ranges : 18 – 29, 30 – 44, 45 – 59, 60+.\n",
    "\n",
    "The output should look something like this:\n",
    "\n",
    "    Age Band\n",
    "    % with Credit Card\n",
    "    18-29    44.9%\n",
    "    30-44    41.2%\n",
    "    45-59    45.5%\n",
    "    60+      43.0%\n"
   ]
  },
  {
   "cell_type": "code",
   "execution_count": 1,
   "metadata": {},
   "outputs": [],
   "source": [
    "import pandas as pd\n",
    "from random import randint\n",
    "import numpy as np\n",
    "Accounts = ['Home Loan','Credit Card']"
   ]
  },
  {
   "cell_type": "code",
   "execution_count": 2,
   "metadata": {},
   "outputs": [],
   "source": [
    "x = np.random.randint(2, size=(10000,1))\n",
    "x1 = np.random.randint(311000,317000, size=(10000))"
   ]
  },
  {
   "cell_type": "code",
   "execution_count": 3,
   "metadata": {},
   "outputs": [],
   "source": [
    "Acc = pd.DataFrame({'Account Type': [Accounts[i[0]] for i in x]})\n",
    "Acc_no = pd.DataFrame({'Account Number': list(np.random.randint(311000,316000, size=(10000,1)))})\n",
    "Customer_basic = Acc_no.join(Acc)"
   ]
  },
  {
   "cell_type": "code",
   "execution_count": 4,
   "metadata": {},
   "outputs": [],
   "source": [
    "Customer_basic1 = Customer_basic.sort_values('Account Number',axis = 0,ascending=True).reset_index(drop=True)"
   ]
  },
  {
   "cell_type": "code",
   "execution_count": 14,
   "metadata": {},
   "outputs": [],
   "source": [
    "z=[]\n",
    "z1=[]\n",
    "c = 1\n",
    "a = np.random.randint(18,75, size=(10000))\n",
    "for i in range(Customer_basic1.shape[0]):\n",
    "    z.append(c)\n",
    "    z1.append(a[c])\n",
    "    if i != Customer_basic1.shape[0]-1:\n",
    "        if Customer_basic1.iloc[i,0] != Customer_basic1.iloc[i+1,0]:\n",
    "            c+=1"
   ]
  },
  {
   "cell_type": "code",
   "execution_count": 15,
   "metadata": {},
   "outputs": [],
   "source": [
    "Customer_basic1.shape[0]\n",
    "Customer_id = pd.DataFrame({'Customer Number':z})\n",
    "Customer_age = pd.DataFrame({'Customer Age':z1})\n",
    "Customer_basic2 = Customer_age.join(Customer_basic1)\n",
    "Customer_basic3 = Customer_id.join(Customer_basic2)"
   ]
  },
  {
   "cell_type": "code",
   "execution_count": 16,
   "metadata": {},
   "outputs": [
    {
     "data": {
      "text/html": [
       "<div>\n",
       "<style scoped>\n",
       "    .dataframe tbody tr th:only-of-type {\n",
       "        vertical-align: middle;\n",
       "    }\n",
       "\n",
       "    .dataframe tbody tr th {\n",
       "        vertical-align: top;\n",
       "    }\n",
       "\n",
       "    .dataframe thead th {\n",
       "        text-align: right;\n",
       "    }\n",
       "</style>\n",
       "<table border=\"1\" class=\"dataframe\">\n",
       "  <thead>\n",
       "    <tr style=\"text-align: right;\">\n",
       "      <th></th>\n",
       "      <th>Customer Number</th>\n",
       "      <th>Customer Age</th>\n",
       "      <th>Account Number</th>\n",
       "      <th>Account Type</th>\n",
       "    </tr>\n",
       "  </thead>\n",
       "  <tbody>\n",
       "    <tr>\n",
       "      <th>0</th>\n",
       "      <td>1</td>\n",
       "      <td>64</td>\n",
       "      <td>[311000]</td>\n",
       "      <td>Credit Card</td>\n",
       "    </tr>\n",
       "    <tr>\n",
       "      <th>1</th>\n",
       "      <td>1</td>\n",
       "      <td>64</td>\n",
       "      <td>[311000]</td>\n",
       "      <td>Credit Card</td>\n",
       "    </tr>\n",
       "    <tr>\n",
       "      <th>2</th>\n",
       "      <td>2</td>\n",
       "      <td>24</td>\n",
       "      <td>[311001]</td>\n",
       "      <td>Credit Card</td>\n",
       "    </tr>\n",
       "    <tr>\n",
       "      <th>3</th>\n",
       "      <td>2</td>\n",
       "      <td>24</td>\n",
       "      <td>[311001]</td>\n",
       "      <td>Credit Card</td>\n",
       "    </tr>\n",
       "    <tr>\n",
       "      <th>4</th>\n",
       "      <td>3</td>\n",
       "      <td>54</td>\n",
       "      <td>[311002]</td>\n",
       "      <td>Credit Card</td>\n",
       "    </tr>\n",
       "  </tbody>\n",
       "</table>\n",
       "</div>"
      ],
      "text/plain": [
       "   Customer Number  Customer Age Account Number Account Type\n",
       "0                1            64       [311000]  Credit Card\n",
       "1                1            64       [311000]  Credit Card\n",
       "2                2            24       [311001]  Credit Card\n",
       "3                2            24       [311001]  Credit Card\n",
       "4                3            54       [311002]  Credit Card"
      ]
     },
     "execution_count": 16,
     "metadata": {},
     "output_type": "execute_result"
    }
   ],
   "source": [
    "Customer_basic3.head()"
   ]
  },
  {
   "cell_type": "code",
   "execution_count": 17,
   "metadata": {},
   "outputs": [],
   "source": [
    "data_1829 = Customer_basic3[(Customer_basic3['Customer Age'] >= 18) & (Customer_basic3['Customer Age'] <= 29)]\n",
    "data_3044 = Customer_basic3[(Customer_basic3['Customer Age'] >= 30) & (Customer_basic3['Customer Age'] <= 44)]\n",
    "data_4559 = Customer_basic3[(Customer_basic3['Customer Age'] >= 45) & (Customer_basic3['Customer Age'] <= 59)]\n",
    "data_60 = Customer_basic3[(Customer_basic3['Customer Age'] >= 60) & (Customer_basic3['Customer Age'] <= 100)]"
   ]
  },
  {
   "cell_type": "code",
   "execution_count": 18,
   "metadata": {},
   "outputs": [],
   "source": [
    "at1= data_1829['Account Type'].value_counts()\n",
    "at2= data_3044['Account Type'].value_counts()\n",
    "at3= data_4559['Account Type'].value_counts()\n",
    "at4= data_60['Account Type'].value_counts()"
   ]
  },
  {
   "cell_type": "code",
   "execution_count": 19,
   "metadata": {},
   "outputs": [],
   "source": [
    "final = pd.DataFrame({'Age Band': ['18-29','30-44','45-59','60+'],'% with Credit Card': [at1[1]/data_1829.shape[0],\n",
    "                            at2[1]/data_1829.shape[0],at3[1]/data_1829.shape[0],at4[1]/data_1829.shape[0]]})"
   ]
  },
  {
   "cell_type": "code",
   "execution_count": 20,
   "metadata": {},
   "outputs": [
    {
     "data": {
      "text/html": [
       "<div>\n",
       "<style scoped>\n",
       "    .dataframe tbody tr th:only-of-type {\n",
       "        vertical-align: middle;\n",
       "    }\n",
       "\n",
       "    .dataframe tbody tr th {\n",
       "        vertical-align: top;\n",
       "    }\n",
       "\n",
       "    .dataframe thead th {\n",
       "        text-align: right;\n",
       "    }\n",
       "</style>\n",
       "<table border=\"1\" class=\"dataframe\">\n",
       "  <thead>\n",
       "    <tr style=\"text-align: right;\">\n",
       "      <th></th>\n",
       "      <th>Age Band</th>\n",
       "      <th>% with Credit Card</th>\n",
       "    </tr>\n",
       "  </thead>\n",
       "  <tbody>\n",
       "    <tr>\n",
       "      <th>0</th>\n",
       "      <td>18-29</td>\n",
       "      <td>0.496517</td>\n",
       "    </tr>\n",
       "    <tr>\n",
       "      <th>1</th>\n",
       "      <td>30-44</td>\n",
       "      <td>0.655721</td>\n",
       "    </tr>\n",
       "    <tr>\n",
       "      <th>2</th>\n",
       "      <td>45-59</td>\n",
       "      <td>0.643284</td>\n",
       "    </tr>\n",
       "    <tr>\n",
       "      <th>3</th>\n",
       "      <td>60+</td>\n",
       "      <td>0.671642</td>\n",
       "    </tr>\n",
       "  </tbody>\n",
       "</table>\n",
       "</div>"
      ],
      "text/plain": [
       "  Age Band  % with Credit Card\n",
       "0    18-29            0.496517\n",
       "1    30-44            0.655721\n",
       "2    45-59            0.643284\n",
       "3      60+            0.671642"
      ]
     },
     "execution_count": 20,
     "metadata": {},
     "output_type": "execute_result"
    }
   ],
   "source": [
    "final"
   ]
  },
  {
   "cell_type": "code",
   "execution_count": null,
   "metadata": {},
   "outputs": [],
   "source": []
  }
 ],
 "metadata": {
  "kernelspec": {
   "display_name": "Python 3",
   "language": "python",
   "name": "python3"
  },
  "language_info": {
   "codemirror_mode": {
    "name": "ipython",
    "version": 3
   },
   "file_extension": ".py",
   "mimetype": "text/x-python",
   "name": "python",
   "nbconvert_exporter": "python",
   "pygments_lexer": "ipython3",
   "version": "3.6.8"
  }
 },
 "nbformat": 4,
 "nbformat_minor": 2
}
