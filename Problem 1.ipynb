{
 "cells": [
  {
   "cell_type": "markdown",
   "metadata": {},
   "source": [
    "### Exercise: Problem 1"
   ]
  },
  {
   "cell_type": "markdown",
   "metadata": {},
   "source": [
    "#### The HOUSES dataset contains a variable SALE_PRICE.  Show how you would determine the median sale price."
   ]
  },
  {
   "cell_type": "code",
   "execution_count": 3,
   "metadata": {},
   "outputs": [],
   "source": [
    "import pandas as pd\n",
    "from random import randint\n",
    "import numpy as np"
   ]
  },
  {
   "cell_type": "code",
   "execution_count": 4,
   "metadata": {},
   "outputs": [
    {
     "name": "stdout",
     "output_type": "stream",
     "text": [
      "    House-Number  Sell-Price\n",
      "0              1        2430\n",
      "1              2        2245\n",
      "2              3        2763\n",
      "3              4        2533\n",
      "4              5        2981\n",
      "5              6        2414\n",
      "6              7        2130\n",
      "7              8        2772\n",
      "8              9        2095\n",
      "9             10        2217\n",
      "10            11        2372\n",
      "11            12        2108\n",
      "12            13        2149\n",
      "13            14        2614\n",
      "14            15        2488\n",
      "15            16        2696\n",
      "16            17        2815\n",
      "17            18        2564\n",
      "18            19        2364\n",
      "19            20        2611\n",
      "20            21        2821\n",
      "21            22        2446\n",
      "22            23        2538\n",
      "23            24        2540\n",
      "24            25        2365\n",
      "25            26        2840\n",
      "26            27        2107\n",
      "27            28        2064\n",
      "28            29        2588\n",
      "29            30        2867\n",
      "..           ...         ...\n",
      "70            71        2690\n",
      "71            72        2539\n",
      "72            73        2251\n",
      "73            74        2517\n",
      "74            75        2915\n",
      "75            76        2591\n",
      "76            77        2147\n",
      "77            78        2965\n",
      "78            79        2098\n",
      "79            80        2046\n",
      "80            81        2955\n",
      "81            82        2812\n",
      "82            83        2935\n",
      "83            84        2724\n",
      "84            85        2592\n",
      "85            86        2372\n",
      "86            87        2782\n",
      "87            88        2196\n",
      "88            89        2890\n",
      "89            90        2108\n",
      "90            91        2735\n",
      "91            92        2643\n",
      "92            93        2294\n",
      "93            94        2751\n",
      "94            95        2009\n",
      "95            96        2844\n",
      "96            97        2209\n",
      "97            98        2124\n",
      "98            99        2748\n",
      "99           100        2185\n",
      "\n",
      "[100 rows x 2 columns]\n",
      "Median of Selling Price of House is Rs 2522.5\n"
     ]
    }
   ],
   "source": [
    "data = pd.DataFrame({'House-Number': list(range(1,101)), 'Sell-Price': [randint(2000,3000) for i in range(100)]})\n",
    "print(data)\n",
    "print('Median of Selling Price of House is Rs {}'.format(np.median(data['Sell-Price'])))"
   ]
  }
 ],
 "metadata": {
  "kernelspec": {
   "display_name": "Python 3",
   "language": "python",
   "name": "python3"
  },
  "language_info": {
   "codemirror_mode": {
    "name": "ipython",
    "version": 3
   },
   "file_extension": ".py",
   "mimetype": "text/x-python",
   "name": "python",
   "nbconvert_exporter": "python",
   "pygments_lexer": "ipython3",
   "version": "3.6.8"
  }
 },
 "nbformat": 4,
 "nbformat_minor": 2
}
